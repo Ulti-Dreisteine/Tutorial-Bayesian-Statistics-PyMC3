{
 "cells": [
  {
   "attachments": {},
   "cell_type": "markdown",
   "metadata": {},
   "source": [
    "### **学习笔记**"
   ]
  },
  {
   "attachments": {},
   "cell_type": "markdown",
   "metadata": {},
   "source": [
    "* 乘法法则: $p(A,B) = p(A|B)p(B)$\n",
    "\n",
    "* 两种随机变量: 连续变量(对应连续分布)和离散变量(对应离散分布)\n",
    "\n",
    "* 独立同分布: 满足概率分解, 简化分析\n",
    "\n",
    "* 几种概率: \n",
    "  * 先验: $p(\\theta)$\n",
    "  * 似然: $p(y|\\theta)$\n",
    "  * 后验: $p(\\theta|y)$\n",
    "  * 边际: $p(y)$, 与$\\theta$无关\n",
    "\n",
    "* 贝叶斯定理: \n",
    "  $p(\\theta|y) \\propto p(\\theta)p(y|\\theta)$\n",
    "\n",
    "* 似然的共轭先验能够使二者组合后获得的后验具有**相同的表达形式**, 在数学上更容易处理, 能够被**解析表达**; 但是**现代方法**往往可以通过随机采样等获得对后验分布的近似, 不必使用共轭先验\n",
    "\n",
    "* 先验的选择: \n",
    "  * 无信息先验, 又名扁平先验、模糊先验或扩散先验\n",
    "  * 弱信息先验, 又名正则化先验\n",
    "\n",
    "* 贝叶斯学派的最大后验密度(Highest-Posterior Density, HPD)与频率学派的置信区间(Confidence Interval, CI)含义有区别\n",
    "\n",
    "* 后验预测检查: 按照$\\theta$的后验分布进行条件预测所得结果的平均, 即$p(\\hat y|y) = \\int p(\\hat y|\\theta)p(\\theta|y) d\\theta$. 该检查有助于了解模型极限并改进\n",
    "\n",
    "* 如何获得点估计结果$\\hat \\theta$?: \n",
    "  * 二次损失: $(\\theta - \\hat \\theta)^2$, 即均值\n",
    "  * 绝对损失: $\\|\\theta - \\hat\\theta\\|$, 即中位数\n",
    "  * 0-1损失: $I(\\theta \\neq \\hat\\theta)$"
   ]
  },
  {
   "attachments": {},
   "cell_type": "markdown",
   "metadata": {},
   "source": [
    "* 组间比较:\n",
    "    * 带参考值的后验分布图\n",
    "    * Cohen's d效应量, 标准分数Z-score\n",
    "    * 概率优势"
   ]
  }
 ],
 "metadata": {
  "kernelspec": {
   "display_name": "pymc3_bayesian_env",
   "language": "python",
   "name": "python3"
  },
  "language_info": {
   "name": "python",
   "version": "3.8.8"
  },
  "orig_nbformat": 4
 },
 "nbformat": 4,
 "nbformat_minor": 2
}
