{
 "cells": [
  {
   "cell_type": "code",
   "execution_count": 1,
   "metadata": {},
   "outputs": [
    {
     "name": "stdout",
     "output_type": "stream",
     "text": [
      "WARN: Could not locate executable g77\n",
      "WARN: Could not locate executable f77\n",
      "WARN: Could not locate executable ifort\n",
      "WARN: Could not locate executable ifl\n",
      "WARN: Could not locate executable f90\n",
      "WARN: Could not locate executable DF\n",
      "WARN: Could not locate executable efl\n"
     ]
    }
   ],
   "source": [
    "import warnings\n",
    "\n",
    "warnings.filterwarnings(\"ignore\")\n",
    "\n",
    "import matplotlib.pyplot as plt\n",
    "import numpy as np\n",
    "from scipy import stats\n",
    "import pymc3 as pm\n",
    "import arviz as az"
   ]
  },
  {
   "cell_type": "code",
   "execution_count": 2,
   "metadata": {},
   "outputs": [
    {
     "data": {
      "text/plain": [
       "<AxesSubplot:>"
      ]
     },
     "execution_count": 2,
     "metadata": {},
     "output_type": "execute_result"
    },
    {
     "data": {
      "image/png": "[encoded data removed]",
      "text/plain": [
       "<Figure size 432x288 with 1 Axes>"
      ]
     },
     "metadata": {
      "needs_background": "light"
     },
     "output_type": "display_data"
    }
   ],
   "source": [
    "samples = np.loadtxt(\"./data/chemical_shifts.csv\")\n",
    "az.plot_kde(samples, rug=True)"
   ]
  },
  {
   "cell_type": "markdown",
   "metadata": {},
   "source": [
    "上述数据分布近似高斯分布$\\cal{N}(\\mu, \\sigma)$, 其中$\\mu$和$\\sigma$待估计.  \n",
    "这里假设:\n",
    "\n",
    "$\\mu \\sim \\cal{U}(l_a, l_b)$  \n",
    "$\\sigma \\sim |\\cal{N}(\\mu_\\sigma, \\sigma_\\sigma)|$\n",
    "\n",
    "下面开始构建PyMC贝叶斯估计模型."
   ]
  },
  {
   "cell_type": "code",
   "execution_count": 3,
   "metadata": {},
   "outputs": [
    {
     "name": "stderr",
     "output_type": "stream",
     "text": [
      "Auto-assigning NUTS sampler...\n",
      "Initializing NUTS using jitter+adapt_diag...\n",
      "Multiprocess sampling (4 chains in 4 jobs)\n",
      "NUTS: [sigma, mu]\n"
     ]
    },
    {
     "data": {
      "text/html": [
       "\n",
       "<style>\n",
       "    /* Turns off some styling */\n",
       "    progress {\n",
       "        /* gets rid of default border in Firefox and Opera. */\n",
       "        border: none;\n",
       "        /* Needs to be in here for Safari polyfill so background images work as expected. */\n",
       "        background-size: auto;\n",
       "    }\n",
       "    progress:not([value]), progress:not([value])::-webkit-progress-bar {\n",
       "        background: repeating-linear-gradient(45deg, #7e7e7e, #7e7e7e 10px, #5c5c5c 10px, #5c5c5c 20px);\n",
       "    }\n",
       "    .progress-bar-interrupted, .progress-bar-interrupted::-webkit-progress-bar {\n",
       "        background: #F44336;\n",
       "    }\n",
       "</style>\n"
      ],
      "text/plain": [
       "<IPython.core.display.HTML object>"
      ]
     },
     "metadata": {},
     "output_type": "display_data"
    },
    {
     "data": {
      "text/html": [
       "\n",
       "    <div>\n",
       "      <progress value='8000' class='' max='8000' style='width:300px; height:20px; vertical-align: middle;'></progress>\n",
       "      100.00% [8000/8000 00:05&lt;00:00 Sampling 4 chains, 0 divergences]\n",
       "    </div>\n",
       "    "
      ],
      "text/plain": [
       "<IPython.core.display.HTML object>"
      ]
     },
     "metadata": {},
     "output_type": "display_data"
    },
    {
     "name": "stderr",
     "output_type": "stream",
     "text": [
      "Sampling 4 chains for 1_000 tune and 1_000 draw iterations (4_000 + 4_000 draws total) took 22 seconds.\n"
     ]
    }
   ],
   "source": [
    "with pm.Model() as model:\n",
    "    mu = pm.Uniform(\"mu\", lower=20, upper=70)\n",
    "    sigma = pm.HalfNormal(\"sigma\", sd=5)\n",
    "    y = pm.Normal(\"y\", mu=mu, sigma=sigma, observed=samples)\n",
    "    \n",
    "    trace = pm.sample(1000, random_seed=42)\n",
    "    az.summary(trace)"
   ]
  },
  {
   "cell_type": "code",
   "execution_count": 4,
   "metadata": {},
   "outputs": [
    {
     "data": {
      "image/svg+xml": "<?xml version=\"1.0\" encoding=\"UTF-8\" standalone=\"no\"?>\n<!DOCTYPE svg PUBLIC \"-//W3C//DTD SVG 1.1//EN\"\n \"http://www.w3.org/Graphics/SVG/1.1/DTD/svg11.dtd\">\n<!-- Generated by graphviz version 2.50.0 (0)\n -->\n<!-- Pages: 1 -->\n<svg width=\"234pt\" height=\"233pt\"\n viewBox=\"0.00 0.00 233.94 232.91\" xmlns=\"http://www.w3.org/2000/svg\" xmlns:xlink=\"http://www.w3.org/1999/xlink\">\n<g id=\"graph0\" class=\"graph\" transform=\"scale(1 1) rotate(0) translate(4 228.91)\">\n<polygon fill=\"white\" stroke=\"transparent\" points=\"-4,4 -4,-228.91 229.94,-228.91 229.94,4 -4,4\"/>\n<g id=\"clust1\" class=\"cluster\">\n<title>cluster48</title>\n<path fill=\"none\" stroke=\"black\" d=\"M81.69,-8C81.69,-8 157.69,-8 157.69,-8 163.69,-8 169.69,-14 169.69,-20 169.69,-20 169.69,-109.95 169.69,-109.95 169.69,-115.95 163.69,-121.95 157.69,-121.95 157.69,-121.95 81.69,-121.95 81.69,-121.95 75.69,-121.95 69.69,-115.95 69.69,-109.95 69.69,-109.95 69.69,-20 69.69,-20 69.69,-14 75.69,-8 81.69,-8\"/>\n<text text-anchor=\"middle\" x=\"154.69\" y=\"-15.8\" font-family=\"Times New Roman,serif\" font-size=\"14.00\">48</text>\n</g>\n<!-- sigma -->\n<g id=\"node1\" class=\"node\">\n<title>sigma</title>\n<ellipse fill=\"none\" stroke=\"black\" cx=\"58.69\" cy=\"-187.43\" rx=\"58.88\" ry=\"37.45\"/>\n<text text-anchor=\"middle\" x=\"58.69\" y=\"-198.73\" font-family=\"Times New Roman,serif\" font-size=\"14.00\">sigma</text>\n<text text-anchor=\"middle\" x=\"58.69\" y=\"-183.73\" font-family=\"Times New Roman,serif\" font-size=\"14.00\">~</text>\n<text text-anchor=\"middle\" x=\"58.69\" y=\"-168.73\" font-family=\"Times New Roman,serif\" font-size=\"14.00\">HalfNormal</text>\n</g>\n<!-- y -->\n<g id=\"node3\" class=\"node\">\n<title>y</title>\n<ellipse fill=\"lightgrey\" stroke=\"black\" cx=\"119.69\" cy=\"-76.48\" rx=\"41.94\" ry=\"37.45\"/>\n<text text-anchor=\"middle\" x=\"119.69\" y=\"-87.78\" font-family=\"Times New Roman,serif\" font-size=\"14.00\">y</text>\n<text text-anchor=\"middle\" x=\"119.69\" y=\"-72.78\" font-family=\"Times New Roman,serif\" font-size=\"14.00\">~</text>\n<text text-anchor=\"middle\" x=\"119.69\" y=\"-57.78\" font-family=\"Times New Roman,serif\" font-size=\"14.00\">Normal</text>\n</g>\n<!-- sigma&#45;&gt;y -->\n<g id=\"edge2\" class=\"edge\">\n<title>sigma&#45;&gt;y</title>\n<path fill=\"none\" stroke=\"black\" d=\"M77.99,-151.96C83.83,-141.53 90.3,-129.98 96.37,-119.14\"/>\n<polygon fill=\"black\" stroke=\"black\" points=\"99.52,-120.68 101.35,-110.24 93.41,-117.26 99.52,-120.68\"/>\n</g>\n<!-- mu -->\n<g id=\"node2\" class=\"node\">\n<title>mu</title>\n<ellipse fill=\"none\" stroke=\"black\" cx=\"180.69\" cy=\"-187.43\" rx=\"45.01\" ry=\"37.45\"/>\n<text text-anchor=\"middle\" x=\"180.69\" y=\"-198.73\" font-family=\"Times New Roman,serif\" font-size=\"14.00\">mu</text>\n<text text-anchor=\"middle\" x=\"180.69\" y=\"-183.73\" font-family=\"Times New Roman,serif\" font-size=\"14.00\">~</text>\n<text text-anchor=\"middle\" x=\"180.69\" y=\"-168.73\" font-family=\"Times New Roman,serif\" font-size=\"14.00\">Uniform</text>\n</g>\n<!-- mu&#45;&gt;y -->\n<g id=\"edge1\" class=\"edge\">\n<title>mu&#45;&gt;y</title>\n<path fill=\"none\" stroke=\"black\" d=\"M162.06,-153.15C156.03,-142.38 149.27,-130.31 142.95,-119.02\"/>\n<polygon fill=\"black\" stroke=\"black\" points=\"145.94,-117.2 138,-110.18 139.83,-120.62 145.94,-117.2\"/>\n</g>\n</g>\n</svg>\n",
      "text/plain": [
       "<graphviz.graphs.Digraph at 0x1bf279e68e0>"
      ]
     },
     "execution_count": 4,
     "metadata": {},
     "output_type": "execute_result"
    }
   ],
   "source": [
    "pm.model_graph.model_to_graphviz(model)"
   ]
  },
  {
   "cell_type": "code",
   "execution_count": 5,
   "metadata": {},
   "outputs": [],
   "source": [
    "# # 总结后验\n",
    "with model:\n",
    "    az.summary(trace, var_names=[\"mu\"])\n",
    "#     # az.plot_trace(trace)\n",
    "#     # plt.tight_layout()\n",
    "    \n",
    "#     # az.plot_pair(trace, kind=\"kde\", fill_last=False)\n",
    "    \n",
    "#     az.summary(trace)\n",
    "    # az.plot_posterior(trace, rope=[0.45, 0.55])\n",
    "    # az.plot_posterior(trace, ref_val=0.5)"
   ]
  }
 ],
 "metadata": {
  "kernelspec": {
   "display_name": "Python 3.8.8 ('pymc3_bayesian_env')",
   "language": "python",
   "name": "python3"
  },
  "language_info": {
   "codemirror_mode": {
    "name": "ipython",
    "version": 3
   },
   "file_extension": ".py",
   "mimetype": "text/x-python",
   "name": "python",
   "nbconvert_exporter": "python",
   "pygments_lexer": "ipython3",
   "version": "3.8.8"
  },
  "orig_nbformat": 4,
  "vscode": {
   "interpreter": {
    "hash": "86e1e7517b656fe56f913ab527a709d862779d7f050ecd5ce1b576e93a365b33"
   }
  }
 },
 "nbformat": 4,
 "nbformat_minor": 2
}
